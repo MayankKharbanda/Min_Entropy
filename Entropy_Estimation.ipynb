{
 "cells": [
  {
   "cell_type": "markdown",
   "metadata": {},
   "source": [
    "# Entropy estimation"
   ]
  },
  {
   "cell_type": "code",
   "execution_count": null,
   "metadata": {},
   "outputs": [],
   "source": [
    "import torch\n",
    "import torch.nn as nn\n",
    "import torch.nn.functional as F\n",
    "import torch.optim as optim\n",
    "import math\n",
    "from tqdm import tqdm\n",
    "from scipy.optimize import fsolve"
   ]
  },
  {
   "cell_type": "code",
   "execution_count": null,
   "metadata": {},
   "outputs": [],
   "source": [
    "lag = 16\n",
    "stats_count = lag + 4\n",
    "output_dim = 1\n",
    "input_data_dim = 20\n",
    "training_set_ratio = 0.8\n",
    "#batch_size"
   ]
  },
  {
   "cell_type": "markdown",
   "metadata": {},
   "source": [
    "## Data-Preprocessing"
   ]
  },
  {
   "cell_type": "code",
   "execution_count": null,
   "metadata": {},
   "outputs": [],
   "source": [
    "import math\n",
    "\n",
    "training_set_ratio = 0.8\n",
    "\n",
    "with open('random_files/dev-random.bin','rb') as fr:\n",
    "    fr.seek(0,2)\n",
    "    file_size = fr.tell()\n",
    "    training_set_size = math.floor(0.8*file_size)\n",
    "    \n",
    "    \n",
    "    fr.seek(0,0)\n",
    "    data_train = fr.read(training_set_size)\n",
    "    data_test = fr.read()"
   ]
  },
  {
   "cell_type": "code",
   "execution_count": null,
   "metadata": {},
   "outputs": [],
   "source": [
    "byte_string = \"{0:08b}\".format(int.from_bytes(data_train,'big'))"
   ]
  },
  {
   "cell_type": "code",
   "execution_count": null,
   "metadata": {},
   "outputs": [],
   "source": [
    "X_data_train = [float(char) for char in byte_string[:-((training_set_size*8)%(input_data_dim+1))]]"
   ]
  },
  {
   "cell_type": "code",
   "execution_count": null,
   "metadata": {},
   "outputs": [],
   "source": [
    "Y_train = X_data_train[20::21]"
   ]
  },
  {
   "cell_type": "code",
   "execution_count": null,
   "metadata": {},
   "outputs": [],
   "source": [
    "del X_data_train[20::21]"
   ]
  },
  {
   "cell_type": "code",
   "execution_count": null,
   "metadata": {},
   "outputs": [],
   "source": [
    "X_data_train = torch.tensor(X_data_train)"
   ]
  },
  {
   "cell_type": "code",
   "execution_count": null,
   "metadata": {},
   "outputs": [],
   "source": [
    "X_data_train"
   ]
  },
  {
   "cell_type": "code",
   "execution_count": null,
   "metadata": {},
   "outputs": [],
   "source": [
    "X_data_train = X_data_train.view(((training_set_size*8)//(input_data_dim+1)), input_data_dim)"
   ]
  },
  {
   "cell_type": "code",
   "execution_count": null,
   "metadata": {},
   "outputs": [],
   "source": [
    "X_data_train"
   ]
  },
  {
   "cell_type": "code",
   "execution_count": null,
   "metadata": {},
   "outputs": [],
   "source": [
    "Y_train = torch.tensor(Y_train)"
   ]
  },
  {
   "cell_type": "code",
   "execution_count": null,
   "metadata": {},
   "outputs": [],
   "source": [
    "Y_train = Y_train.view(((training_set_size*8)//(input_data_dim+1)), 1)"
   ]
  },
  {
   "cell_type": "code",
   "execution_count": null,
   "metadata": {},
   "outputs": [],
   "source": [
    "Y_train"
   ]
  },
  {
   "cell_type": "code",
   "execution_count": null,
   "metadata": {},
   "outputs": [],
   "source": [
    "byte_string = \"{0:08b}\".format(int.from_bytes(data_test,'big'))"
   ]
  },
  {
   "cell_type": "code",
   "execution_count": null,
   "metadata": {},
   "outputs": [],
   "source": [
    "len(byte_string)"
   ]
  },
  {
   "cell_type": "code",
   "execution_count": null,
   "metadata": {},
   "outputs": [],
   "source": [
    "X_data_test = [float(char) for char in byte_string[:-((((file_size-training_set_size)*8)%(input_data_dim+1))-1)]]"
   ]
  },
  {
   "cell_type": "code",
   "execution_count": null,
   "metadata": {},
   "outputs": [],
   "source": [
    "len(X_data_test)"
   ]
  },
  {
   "cell_type": "code",
   "execution_count": null,
   "metadata": {},
   "outputs": [],
   "source": [
    "Y_test = X_data_test[20::21]"
   ]
  },
  {
   "cell_type": "code",
   "execution_count": null,
   "metadata": {},
   "outputs": [],
   "source": [
    "del X_data_test[20::21]\n",
    "X_data_test = torch.tensor(X_data_test)\n",
    "X_data_test = X_data_test.view((((file_size-training_set_size)*8)//(input_data_dim+1)), input_data_dim)\n",
    "Y_test = torch.tensor(Y_test)\n",
    "Y_test = Y_test.view((((file_size-training_set_size)*8)//(input_data_dim+1)), 1)"
   ]
  },
  {
   "cell_type": "markdown",
   "metadata": {},
   "source": [
    "## Neural Network"
   ]
  },
  {
   "cell_type": "code",
   "execution_count": null,
   "metadata": {},
   "outputs": [],
   "source": [
    "class Neural_Network(nn.Module):\n",
    "    def __init__(self, stats_count, input_data_dim, num_classes):\n",
    "        super(Neural_Network, self).__init__()\n",
    "        self.fc1 = nn.Linear(stats_count, 20)\n",
    "        self.fc2 = nn.Linear(20, 1)\n",
    "        self.fc3 = nn.Linear(input_data_dim+1, 128)\n",
    "        self.fc4 = nn.Linear(128, 20)\n",
    "        self.fc5 = nn.Linear(20, num_classes)\n",
    "    \n",
    "    \n",
    "    def forward(self, stats, input_data):\n",
    "        x = F.relu(self.fc1(stats))\n",
    "        x = F.relu(self.fc2(x))\n",
    "        x = F.relu(self.fc3(torch.cat((input_data, x), dim=1)))\n",
    "        x = F.relu(self.fc4(x))\n",
    "        x = F.relu(self.fc5(x))        #softmax\n",
    "        return x\n",
    "\n",
    "model = Neural_Network(stats_count, input_data_dim, output_dim)\n",
    "print(model)"
   ]
  },
  {
   "cell_type": "code",
   "execution_count": null,
   "metadata": {},
   "outputs": [],
   "source": [
    "loss_function = nn.L1Loss()\n",
    "total_epochs = 20000\n",
    "learning_rate = 0.001    #update the equation\n",
    "optimizer = optim.Adam(model.parameters(), lr=learning_rate)"
   ]
  },
  {
   "cell_type": "code",
   "execution_count": null,
   "metadata": {},
   "outputs": [],
   "source": [
    "X_stats_train = torch.randn(((training_set_size*8)//(input_data_dim+1)), 20)"
   ]
  },
  {
   "cell_type": "code",
   "execution_count": null,
   "metadata": {},
   "outputs": [],
   "source": [
    "X_stats_train"
   ]
  },
  {
   "cell_type": "code",
   "execution_count": null,
   "metadata": {},
   "outputs": [],
   "source": [
    "output = model(X_stats_train,X_data_train)"
   ]
  },
  {
   "cell_type": "code",
   "execution_count": null,
   "metadata": {},
   "outputs": [],
   "source": [
    "for epoch in tqdm(range(total_epochs)):\n",
    "    model.zero_grad()\n",
    "    output = model(X_stats_train, X_data_train)\n",
    "    #print(output)\n",
    "    \n",
    "    loss = loss_function(output, Y_train)\n",
    "    optimizer.zero_grad()\n",
    "    loss.backward()\n",
    "    optimizer.step()\n",
    "\n",
    "    #print(loss)\n",
    "    "
   ]
  },
  {
   "cell_type": "code",
   "execution_count": null,
   "metadata": {},
   "outputs": [],
   "source": [
    "X_stats_test = torch.randn((((file_size-training_set_size)*8)//(input_data_dim+1)), 20)"
   ]
  },
  {
   "cell_type": "code",
   "execution_count": null,
   "metadata": {
    "scrolled": true
   },
   "outputs": [],
   "source": [
    "correct = 0\n",
    "total = 0\n",
    "longest_run = 0\n",
    "with torch.no_grad():\n",
    "    #for data in testset:\n",
    "    output = model(X_stats_test, X_data_test)\n",
    "    run = 0\n",
    "    for idx, i in enumerate(output):\n",
    "        #print(float(output[idx]))\n",
    "        #print(Y_test[idx])\n",
    "        if math.floor(float(output[idx])+0.5) == Y_test[idx]:\n",
    "            run = run + 1\n",
    "            correct = correct+1\n",
    "        else:\n",
    "            longest_run = max(longest_run, run)\n",
    "            run = 0\n",
    "        total = total+1\n",
    "    \n",
    "    loss = loss_function(output, Y_test)\n",
    "    #print(output)\n",
    "    print(loss)\n",
    "    print(correct)\n",
    "    print(total)\n",
    "    print(longest_run)"
   ]
  },
  {
   "cell_type": "markdown",
   "metadata": {},
   "source": [
    "## Entropy calculation"
   ]
  },
  {
   "cell_type": "code",
   "execution_count": null,
   "metadata": {},
   "outputs": [],
   "source": [
    "n = total       #number of bits produced\n",
    "c = correct       #number of correct bits\n",
    "l = longest_run        #longest run"
   ]
  },
  {
   "cell_type": "code",
   "execution_count": null,
   "metadata": {},
   "outputs": [],
   "source": [
    "prediction_global = c/n\n",
    "\n",
    "if prediction_global == 0 :\n",
    "    prediction_global_normalized = 1 - (0.01**(1/n))\n",
    "\n",
    "else:\n",
    "    prediction_global_normalized = min(1, prediction_global+2.579*(((prediction_global*(1-prediction_global))/(n-1))**(1/2))) #99% confidence"
   ]
  },
  {
   "cell_type": "code",
   "execution_count": null,
   "metadata": {},
   "outputs": [],
   "source": [
    "def local_predictor(p, *args):\n",
    "    \n",
    "    l, n, precision = args\n",
    "    \n",
    "    \n",
    "    q = 1-p\n",
    "    x = 1+q*(p**l)\n",
    "    \n",
    "    \n",
    "    for i in range(int(precision)):\n",
    "        x = x + (((l+1)**(i+1))*((q*(p**l))**(i+2)))     #check equation\n",
    "    \n",
    "    return ((1-p*x)/((l+2-(l+1)*x)*q*(x**(n+1))))-0.99\n"
   ]
  },
  {
   "cell_type": "code",
   "execution_count": null,
   "metadata": {},
   "outputs": [],
   "source": [
    "predict =  fsolve(local_predictor, 0.5, (l, n, 0))\n",
    "\n",
    "print(predict)\n",
    "print(local_predictor(predict, l, n, 0))"
   ]
  },
  {
   "cell_type": "code",
   "execution_count": null,
   "metadata": {},
   "outputs": [],
   "source": [
    "precision = 0\n",
    "efselon = 1e-5\n",
    "\n",
    "\n",
    "predict =  fsolve(local_predictor, 0.5, (l, n, precision))\n",
    "precision = precision+1\n",
    "\n",
    "predict_new = fsolve(local_predictor, 0.5, (l, n, precision))\n",
    "\n",
    "\n",
    "while abs(predict-predict_new)>efselon:\n",
    "    precision = precision+1\n",
    "    predict = predict_new\n",
    "    predict_new = fsolve(local_predictor, 0.5, (l, n, precision))\n",
    "\n",
    "\n",
    "prediction_local = predict_new"
   ]
  },
  {
   "cell_type": "code",
   "execution_count": null,
   "metadata": {},
   "outputs": [],
   "source": [
    "min_Entropy = -math.log(max(prediction_global_normalized, prediction_local),2)"
   ]
  },
  {
   "cell_type": "code",
   "execution_count": null,
   "metadata": {},
   "outputs": [],
   "source": [
    "min_Entropy"
   ]
  },
  {
   "cell_type": "code",
   "execution_count": null,
   "metadata": {},
   "outputs": [],
   "source": []
  }
 ],
 "metadata": {
  "kernelspec": {
   "display_name": "Python 3",
   "language": "python",
   "name": "python3"
  },
  "language_info": {
   "codemirror_mode": {
    "name": "ipython",
    "version": 3
   },
   "file_extension": ".py",
   "mimetype": "text/x-python",
   "name": "python",
   "nbconvert_exporter": "python",
   "pygments_lexer": "ipython3",
   "version": "3.6.10"
  }
 },
 "nbformat": 4,
 "nbformat_minor": 4
}
