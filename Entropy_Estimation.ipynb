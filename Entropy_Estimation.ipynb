{
 "cells": [
  {
   "cell_type": "markdown",
   "metadata": {},
   "source": [
    "# Entropy estimation"
   ]
  },
  {
   "cell_type": "code",
   "execution_count": 1,
   "metadata": {},
   "outputs": [],
   "source": [
    "import torch\n",
    "import torch.nn as nn\n",
    "import torch.nn.functional as F\n",
    "import torch.optim as optim\n",
    "import math\n",
    "from scipy.optimize import fsolve"
   ]
  },
  {
   "cell_type": "code",
   "execution_count": 2,
   "metadata": {},
   "outputs": [],
   "source": [
    "lag = 16\n",
    "stats_count = lag + 4\n",
    "output_dim = 1\n",
    "input_data_dim = 20\n",
    "training_set_ratio = 0.8\n",
    "#batch_size"
   ]
  },
  {
   "cell_type": "markdown",
   "metadata": {},
   "source": [
    "## Data-Preprocessing"
   ]
  },
  {
   "cell_type": "code",
   "execution_count": 3,
   "metadata": {},
   "outputs": [],
   "source": [
    "import math\n",
    "\n",
    "training_set_ratio = 0.8\n",
    "\n",
    "with open('random_files/dev-random.bin','rb') as fr:\n",
    "    fr.seek(0,2)\n",
    "    file_size = fr.tell()\n",
    "    training_set_size = math.floor(0.8*file_size)\n",
    "    \n",
    "    \n",
    "    fr.seek(0,0)\n",
    "    data_train = fr.read(training_set_size)\n",
    "    data_test = fr.read()"
   ]
  },
  {
   "cell_type": "code",
   "execution_count": 4,
   "metadata": {},
   "outputs": [],
   "source": [
    "byte_string = \"{0:08b}\".format(int.from_bytes(data_train,'big'))"
   ]
  },
  {
   "cell_type": "code",
   "execution_count": 5,
   "metadata": {},
   "outputs": [],
   "source": [
    "X_data_train = [float(char) for char in byte_string[:-((training_set_size*8)%(input_data_dim+1))]]"
   ]
  },
  {
   "cell_type": "code",
   "execution_count": 6,
   "metadata": {},
   "outputs": [],
   "source": [
    "Y_train = X_data_train[20::21]"
   ]
  },
  {
   "cell_type": "code",
   "execution_count": 7,
   "metadata": {},
   "outputs": [],
   "source": [
    "del X_data_train[20::21]"
   ]
  },
  {
   "cell_type": "code",
   "execution_count": 8,
   "metadata": {},
   "outputs": [],
   "source": [
    "X_data_train = torch.tensor(X_data_train)"
   ]
  },
  {
   "cell_type": "code",
   "execution_count": 9,
   "metadata": {},
   "outputs": [
    {
     "data": {
      "text/plain": [
       "tensor([1., 0., 0.,  ..., 0., 1., 1.])"
      ]
     },
     "execution_count": 9,
     "metadata": {},
     "output_type": "execute_result"
    }
   ],
   "source": [
    "X_data_train"
   ]
  },
  {
   "cell_type": "code",
   "execution_count": 10,
   "metadata": {},
   "outputs": [],
   "source": [
    "X_data_train = X_data_train.view(((training_set_size*8)//(input_data_dim+1)), input_data_dim)"
   ]
  },
  {
   "cell_type": "code",
   "execution_count": 11,
   "metadata": {},
   "outputs": [
    {
     "data": {
      "text/plain": [
       "tensor([[1., 0., 0.,  ..., 1., 0., 0.],\n",
       "        [1., 0., 1.,  ..., 0., 0., 0.],\n",
       "        [0., 0., 1.,  ..., 1., 0., 0.],\n",
       "        ...,\n",
       "        [0., 0., 1.,  ..., 0., 1., 1.],\n",
       "        [1., 0., 1.,  ..., 1., 1., 1.],\n",
       "        [0., 0., 0.,  ..., 0., 1., 1.]])"
      ]
     },
     "execution_count": 11,
     "metadata": {},
     "output_type": "execute_result"
    }
   ],
   "source": [
    "X_data_train"
   ]
  },
  {
   "cell_type": "code",
   "execution_count": 12,
   "metadata": {},
   "outputs": [],
   "source": [
    "Y_train = torch.tensor(Y_train)"
   ]
  },
  {
   "cell_type": "code",
   "execution_count": 13,
   "metadata": {},
   "outputs": [],
   "source": [
    "Y_train = Y_train.view(((training_set_size*8)//(input_data_dim+1)), 1)"
   ]
  },
  {
   "cell_type": "code",
   "execution_count": 14,
   "metadata": {},
   "outputs": [
    {
     "data": {
      "text/plain": [
       "tensor([[0.],\n",
       "        [1.],\n",
       "        [0.],\n",
       "        ...,\n",
       "        [0.],\n",
       "        [1.],\n",
       "        [0.]])"
      ]
     },
     "execution_count": 14,
     "metadata": {},
     "output_type": "execute_result"
    }
   ],
   "source": [
    "Y_train"
   ]
  },
  {
   "cell_type": "code",
   "execution_count": 15,
   "metadata": {},
   "outputs": [],
   "source": [
    "byte_string = \"{0:08b}\".format(int.from_bytes(data_test,'big'))"
   ]
  },
  {
   "cell_type": "code",
   "execution_count": 16,
   "metadata": {},
   "outputs": [
    {
     "data": {
      "text/plain": [
       "203167"
      ]
     },
     "execution_count": 16,
     "metadata": {},
     "output_type": "execute_result"
    }
   ],
   "source": [
    "len(byte_string)"
   ]
  },
  {
   "cell_type": "code",
   "execution_count": 17,
   "metadata": {},
   "outputs": [],
   "source": [
    "X_data_test = [float(char) for char in byte_string[:-((((file_size-training_set_size)*8)%(input_data_dim+1))-1)]]"
   ]
  },
  {
   "cell_type": "code",
   "execution_count": 18,
   "metadata": {},
   "outputs": [
    {
     "data": {
      "text/plain": [
       "203154"
      ]
     },
     "execution_count": 18,
     "metadata": {},
     "output_type": "execute_result"
    }
   ],
   "source": [
    "len(X_data_test)"
   ]
  },
  {
   "cell_type": "code",
   "execution_count": 19,
   "metadata": {},
   "outputs": [],
   "source": [
    "Y_test = X_data_test[20::21]"
   ]
  },
  {
   "cell_type": "code",
   "execution_count": 20,
   "metadata": {},
   "outputs": [],
   "source": [
    "del X_data_test[20::21]\n",
    "X_data_test = torch.tensor(X_data_test)\n",
    "X_data_test = X_data_test.view((((file_size-training_set_size)*8)//(input_data_dim+1)), input_data_dim)\n",
    "Y_test = torch.tensor(Y_test)\n",
    "Y_test = Y_test.view((((file_size-training_set_size)*8)//(input_data_dim+1)), 1)"
   ]
  },
  {
   "cell_type": "markdown",
   "metadata": {},
   "source": [
    "## Neural Network"
   ]
  },
  {
   "cell_type": "code",
   "execution_count": 21,
   "metadata": {},
   "outputs": [
    {
     "name": "stdout",
     "output_type": "stream",
     "text": [
      "Neural_Network(\n",
      "  (fc1): Linear(in_features=20, out_features=20, bias=True)\n",
      "  (fc2): Linear(in_features=20, out_features=1, bias=True)\n",
      "  (fc3): Linear(in_features=21, out_features=128, bias=True)\n",
      "  (fc4): Linear(in_features=128, out_features=20, bias=True)\n",
      "  (fc5): Linear(in_features=20, out_features=1, bias=True)\n",
      ")\n"
     ]
    }
   ],
   "source": [
    "class Neural_Network(nn.Module):\n",
    "    def __init__(self, stats_count, input_data_dim, num_classes):\n",
    "        super(Neural_Network, self).__init__()\n",
    "        self.fc1 = nn.Linear(stats_count, 20)\n",
    "        self.fc2 = nn.Linear(20, 1)\n",
    "        self.fc3 = nn.Linear(input_data_dim+1, 128)\n",
    "        self.fc4 = nn.Linear(128, 20)\n",
    "        self.fc5 = nn.Linear(20, num_classes)\n",
    "    \n",
    "    \n",
    "    def forward(self, stats, input_data):\n",
    "        x = F.relu(self.fc1(stats))\n",
    "        x = F.relu(self.fc2(x))\n",
    "        x = F.relu(self.fc3(torch.cat((input_data, x), dim=1)))\n",
    "        x = F.relu(self.fc4(x))\n",
    "        x = F.relu(self.fc5(x))        #softmax\n",
    "        return x\n",
    "\n",
    "model = Neural_Network(stats_count, input_data_dim, output_dim)\n",
    "print(model)"
   ]
  },
  {
   "cell_type": "code",
   "execution_count": 22,
   "metadata": {},
   "outputs": [],
   "source": [
    "loss_function = nn.L1Loss()\n",
    "total_epochs = 20\n",
    "learning_rate = 0.001    #update the equation\n",
    "optimizer = optim.Adam(model.parameters(), lr=learning_rate)"
   ]
  },
  {
   "cell_type": "code",
   "execution_count": 23,
   "metadata": {},
   "outputs": [],
   "source": [
    "X_stats_train = torch.randn(((training_set_size*8)//(input_data_dim+1)), 20)"
   ]
  },
  {
   "cell_type": "code",
   "execution_count": 24,
   "metadata": {},
   "outputs": [
    {
     "data": {
      "text/plain": [
       "tensor([[-0.3393,  0.7744,  0.6375,  ...,  0.2125, -0.5110,  1.1264],\n",
       "        [-0.9365,  0.9669,  0.6278,  ...,  0.1219,  0.6159, -0.4203],\n",
       "        [-0.1097, -1.7793, -0.7491,  ...,  0.3110, -0.1566,  0.3478],\n",
       "        ...,\n",
       "        [-0.2670, -1.0399,  0.3193,  ...,  0.6163,  1.5024,  0.9750],\n",
       "        [-0.8288, -0.9271,  0.2054,  ...,  0.8639,  0.3082,  1.0368],\n",
       "        [ 1.2804,  0.9247,  1.5558,  ...,  0.4599,  1.6363,  0.2233]])"
      ]
     },
     "execution_count": 24,
     "metadata": {},
     "output_type": "execute_result"
    }
   ],
   "source": [
    "X_stats_train"
   ]
  },
  {
   "cell_type": "code",
   "execution_count": 25,
   "metadata": {},
   "outputs": [],
   "source": [
    "output = model(X_stats_train,X_data_train)"
   ]
  },
  {
   "cell_type": "code",
   "execution_count": 26,
   "metadata": {},
   "outputs": [
    {
     "name": "stdout",
     "output_type": "stream",
     "text": [
      "tensor(0.4969, grad_fn=<L1LossBackward>)\n",
      "tensor(0.4968, grad_fn=<L1LossBackward>)\n",
      "tensor(0.4967, grad_fn=<L1LossBackward>)\n",
      "tensor(0.4967, grad_fn=<L1LossBackward>)\n",
      "tensor(0.4967, grad_fn=<L1LossBackward>)\n",
      "tensor(0.4967, grad_fn=<L1LossBackward>)\n",
      "tensor(0.4967, grad_fn=<L1LossBackward>)\n",
      "tensor(0.4967, grad_fn=<L1LossBackward>)\n",
      "tensor(0.4966, grad_fn=<L1LossBackward>)\n",
      "tensor(0.4966, grad_fn=<L1LossBackward>)\n",
      "tensor(0.4965, grad_fn=<L1LossBackward>)\n",
      "tensor(0.4965, grad_fn=<L1LossBackward>)\n",
      "tensor(0.4964, grad_fn=<L1LossBackward>)\n",
      "tensor(0.4964, grad_fn=<L1LossBackward>)\n",
      "tensor(0.4963, grad_fn=<L1LossBackward>)\n",
      "tensor(0.4962, grad_fn=<L1LossBackward>)\n",
      "tensor(0.4961, grad_fn=<L1LossBackward>)\n",
      "tensor(0.4960, grad_fn=<L1LossBackward>)\n",
      "tensor(0.4959, grad_fn=<L1LossBackward>)\n",
      "tensor(0.4957, grad_fn=<L1LossBackward>)\n"
     ]
    }
   ],
   "source": [
    "for epoch in range(total_epochs):\n",
    "    model.zero_grad()\n",
    "    output = model(X_stats_train, X_data_train)\n",
    "    #print(output)\n",
    "    \n",
    "    loss = loss_function(output, Y_train)\n",
    "    optimizer.zero_grad()\n",
    "    loss.backward()\n",
    "    optimizer.step()\n",
    "\n",
    "    print(loss)\n",
    "    "
   ]
  },
  {
   "cell_type": "code",
   "execution_count": 27,
   "metadata": {},
   "outputs": [],
   "source": [
    "X_stats_test = torch.randn((((file_size-training_set_size)*8)//(input_data_dim+1)), 20)"
   ]
  },
  {
   "cell_type": "code",
   "execution_count": 28,
   "metadata": {
    "scrolled": true
   },
   "outputs": [
    {
     "name": "stdout",
     "output_type": "stream",
     "text": [
      "tensor([[0.0635],\n",
      "        [0.1903],\n",
      "        [0.0946],\n",
      "        ...,\n",
      "        [0.0627],\n",
      "        [0.0537],\n",
      "        [0.0786]])\n",
      "tensor(0.5054)\n"
     ]
    }
   ],
   "source": [
    "with torch.no_grad():\n",
    "    #for data in testset:\n",
    "    output = model(X_stats_test, X_data_test)\n",
    "    '''\n",
    "    for idx, i in enumerate(output):\n",
    "    if torch.argmax(i) == y[idx]:\n",
    "    correct += 1\n",
    "    total += 1\n",
    "    '''\n",
    "    loss = loss_function(output, Y_test)\n",
    "    print(output)\n",
    "    print(loss)"
   ]
  },
  {
   "cell_type": "markdown",
   "metadata": {},
   "source": [
    "## Entropy calculation"
   ]
  },
  {
   "cell_type": "code",
   "execution_count": 29,
   "metadata": {},
   "outputs": [],
   "source": [
    "n = 70       #number of bits produced\n",
    "c = 20       #number of correct bits\n",
    "l = 5        #longest run"
   ]
  },
  {
   "cell_type": "code",
   "execution_count": 30,
   "metadata": {},
   "outputs": [],
   "source": [
    "prediction_global = c/n\n",
    "\n",
    "if prediction_global == 0 :\n",
    "    prediction_global_normalized = 1 - (0.01**(1/n))\n",
    "\n",
    "else:\n",
    "    prediction_global_normalized = min(1, prediction_global+2.579*(((prediction_global*(1-prediction_global))/(n-1))**(1/2))) #99% confidence"
   ]
  },
  {
   "cell_type": "code",
   "execution_count": 31,
   "metadata": {},
   "outputs": [],
   "source": [
    "def local_predictor(p, *args):\n",
    "    \n",
    "    l, n, precision = args\n",
    "    \n",
    "    \n",
    "    q = 1-p\n",
    "    x = 1+q*(p**l)\n",
    "    \n",
    "    \n",
    "    for i in range(int(precision)):\n",
    "        x = x + (((l+1)**(i+1))*((q*(p**l))**(i+2)))     #check equation\n",
    "    \n",
    "    return ((1-p*x)/((l+2-(l+1)*x)*q*(x**(n+1))))-0.99\n"
   ]
  },
  {
   "cell_type": "code",
   "execution_count": 32,
   "metadata": {},
   "outputs": [
    {
     "name": "stdout",
     "output_type": "stream",
     "text": [
      "[0.17979928]\n",
      "[-7.32747196e-15]\n"
     ]
    }
   ],
   "source": [
    "predict =  fsolve(local_predictor, 0.5, (l, n, 0))\n",
    "\n",
    "print(predict)\n",
    "print(local_predictor(predict, l, n, 0))"
   ]
  },
  {
   "cell_type": "code",
   "execution_count": 33,
   "metadata": {},
   "outputs": [],
   "source": [
    "precision = 0\n",
    "efselon = 1e-5\n",
    "\n",
    "\n",
    "predict =  fsolve(local_predictor, 0.5, (l, n, precision))\n",
    "precision = precision+1\n",
    "\n",
    "predict_new = fsolve(local_predictor, 0.5, (l, n, precision))\n",
    "\n",
    "\n",
    "while abs(predict-predict_new)>efselon:\n",
    "    precision = precision+1\n",
    "    predict = predict_new\n",
    "    predict_new = fsolve(local_predictor, 0.5, (l, n, precision))\n",
    "\n",
    "\n",
    "prediction_local = predict_new"
   ]
  },
  {
   "cell_type": "code",
   "execution_count": 34,
   "metadata": {},
   "outputs": [],
   "source": [
    "min_Entropy = -math.log(max(prediction_global_normalized, prediction_local),2)"
   ]
  },
  {
   "cell_type": "code",
   "execution_count": 35,
   "metadata": {},
   "outputs": [
    {
     "data": {
      "text/plain": [
       "1.2311673053919407"
      ]
     },
     "execution_count": 35,
     "metadata": {},
     "output_type": "execute_result"
    }
   ],
   "source": [
    "min_Entropy"
   ]
  },
  {
   "cell_type": "code",
   "execution_count": null,
   "metadata": {},
   "outputs": [],
   "source": []
  }
 ],
 "metadata": {
  "kernelspec": {
   "display_name": "Python 3",
   "language": "python",
   "name": "python3"
  },
  "language_info": {
   "codemirror_mode": {
    "name": "ipython",
    "version": 3
   },
   "file_extension": ".py",
   "mimetype": "text/x-python",
   "name": "python",
   "nbconvert_exporter": "python",
   "pygments_lexer": "ipython3",
   "version": "3.6.10"
  }
 },
 "nbformat": 4,
 "nbformat_minor": 4
}
