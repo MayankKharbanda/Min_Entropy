{
 "cells": [
  {
   "cell_type": "markdown",
   "metadata": {},
   "source": [
    "# Entropy estimation"
   ]
  },
  {
   "cell_type": "code",
   "execution_count": null,
   "metadata": {},
   "outputs": [],
   "source": [
    "import torch\n",
    "import torch.nn as nn\n",
    "import torch.nn.functional as F\n",
    "import torch.optim as optim\n",
    "import math\n",
    "from tqdm import tqdm\n",
    "from scipy.optimize import fsolve"
   ]
  },
  {
   "cell_type": "code",
   "execution_count": null,
   "metadata": {},
   "outputs": [],
   "source": [
    "lag = 16              #parameter for auto-correlation\n",
    "stats_count = lag + 4       #stats parameters\n",
    "input_dim = 20         #input random numbers\n",
    "\n",
    "training_set_ratio = 0.8       #ratio of training set in total data\n",
    "\n",
    "\n",
    "batch_size_appr = 1000         #approximate batch size(in bytes)\n",
    "random_file = 'random_files/dev-random.bin'      #file containing random numbers\n",
    "\n",
    "\n",
    "batch_size = math.ceil((batch_size_appr - ((batch_size_appr*8)%(input_dim+1)))/8)"
   ]
  },
  {
   "cell_type": "markdown",
   "metadata": {},
   "source": [
    "## Data-Preprocessing"
   ]
  },
  {
   "cell_type": "code",
   "execution_count": null,
   "metadata": {},
   "outputs": [],
   "source": [
    "with open(f'{random_file}','rb') as fr:\n",
    "    fr.seek(0,2)\n",
    "    file_size = fr.tell()\n",
    "    training_set_size = math.floor(training_set_ratio*file_size)"
   ]
  },
  {
   "cell_type": "code",
   "execution_count": null,
   "metadata": {},
   "outputs": [],
   "source": [
    "def data_collection(pos, size):\n",
    "    \n",
    "    '''\n",
    "    The function returns binary data of size 'size' \n",
    "    starting from 'pos' in 'random_file'\n",
    "    '''\n",
    "    \n",
    "    \n",
    "    with open(f'{random_file}','rb') as fr:    \n",
    "        fr.seek(pos,0)\n",
    "        data = fr.read(size)\n",
    "    \n",
    "    return data"
   ]
  },
  {
   "cell_type": "code",
   "execution_count": null,
   "metadata": {},
   "outputs": [],
   "source": [
    "def data_preprocess(data):\n",
    "    \n",
    "    '''\n",
    "    The function does preprocessing of data, \n",
    "    which is transferred to neural network.\n",
    "    '''\n",
    "    \n",
    "    \n",
    "    byte_string = \"{0:08b}\".format(int.from_bytes(data,'big'))       #converts binary data into binary digits\n",
    "    \n",
    "    data_size = len(byte_string)                            #size of binary data\n",
    "    \n",
    "    X_data = [float(char) for char in byte_string[:-(data_size%(input_dim+1))]]   #trim data from last to make tensor, and convert binary string to list\n",
    "    Y = X_data[input_dim :: input_dim + 1]               #take the Y values from the list and clean the original list\n",
    "    del X_data[input_dim :: input_dim + 1]\n",
    "    \n",
    "\n",
    "    X_data = torch.tensor(X_data)             \n",
    "    X_data = X_data.view((data_size//(input_dim+1)), input_dim)          #create tensor of appropriate dimensions\n",
    "    \n",
    "    Y = torch.tensor(Y)\n",
    "    Y = Y.view((data_size//(input_dim+1)), 1)\n",
    "    \n",
    "    X_stats = torch.randn(((data_size)//(input_dim+1)), 20)\n",
    "    \n",
    "    return X_data, X_stats, Y"
   ]
  },
  {
   "cell_type": "code",
   "execution_count": null,
   "metadata": {},
   "outputs": [],
   "source": [
    "train_batches = math.floor(training_set_size/batch_size)            #total train batches\n",
    "test_batches = math.ceil(file_size/batch_size)-train_batches         #total test batches(from memory constraints)"
   ]
  },
  {
   "cell_type": "markdown",
   "metadata": {},
   "source": [
    "## Neural Network"
   ]
  },
  {
   "cell_type": "code",
   "execution_count": null,
   "metadata": {},
   "outputs": [],
   "source": [
    "class Neural_Network(nn.Module):\n",
    "       \n",
    "    '''\n",
    "    The class contains architecture of neural network\n",
    "    '''\n",
    "    \n",
    "    def __init__(self, stats_count, input_dim, num_classes):\n",
    "        \n",
    "        super(Neural_Network, self).__init__()\n",
    "        self.fc1 = nn.Linear(stats_count, 20)\n",
    "        self.fc2 = nn.Linear(20, 1)\n",
    "        self.fc3 = nn.Linear(input_dim+1, 128)\n",
    "        self.fc4 = nn.Linear(128, 20)\n",
    "        self.fc5 = nn.Linear(20, num_classes)\n",
    "    \n",
    "    \n",
    "    def forward(self, stats, input_data):\n",
    "        x = F.relu(self.fc1(stats))\n",
    "        x = F.relu(self.fc2(x))\n",
    "        x = F.relu(self.fc3(torch.cat((input_data, x), dim=1)))\n",
    "        x = F.relu(self.fc4(x))\n",
    "        x = F.relu(self.fc5(x))        #softmax\n",
    "        return x\n",
    "\n",
    "model = Neural_Network(stats_count, input_dim, 1)\n",
    "print(model)"
   ]
  },
  {
   "cell_type": "code",
   "execution_count": null,
   "metadata": {},
   "outputs": [],
   "source": [
    "loss_function = nn.L1Loss()      # absolute mean loss function\n",
    "total_epochs = 2\n",
    "\n",
    "\n",
    "learning_rate = 0.01\n",
    "optimizer = optim.Adam(model.parameters(), lr=learning_rate)    #Adam optimizer\n",
    "\n",
    "\n",
    "#reducing learning rate when plateau occurs\n",
    "scheduler = optim.lr_scheduler.ReduceLROnPlateau(optimizer, mode='min', factor=0.1, patience=10, verbose=True, threshold=0.0001)"
   ]
  },
  {
   "cell_type": "markdown",
   "metadata": {},
   "source": [
    "### Model training"
   ]
  },
  {
   "cell_type": "code",
   "execution_count": null,
   "metadata": {},
   "outputs": [],
   "source": [
    "for epoch in tqdm(range(total_epochs)):\n",
    "    \n",
    "    \n",
    "    #tqdm.write(f'Epoch: {epoch}')\n",
    "    \n",
    "    for batch in tqdm(range(train_batches)):\n",
    "    \n",
    "        batch_data = data_collection(batch*batch_size, batch_size)\n",
    "        X_data, X_stats, Y = data_preprocess(batch_data)\n",
    "        \n",
    "        \n",
    "        model.zero_grad()\n",
    "        output = model(X_stats, X_data)\n",
    "        \n",
    "        \n",
    "        loss = loss_function(output, Y)\n",
    "        optimizer.zero_grad()\n",
    "        loss.backward()\n",
    "        \n",
    "        optimizer.step()\n",
    "        scheduler.step(loss)\n",
    "\n",
    "        #tqdm.write(f'Batch: {batch} \\t Loss: {loss}')"
   ]
  },
  {
   "cell_type": "markdown",
   "metadata": {},
   "source": [
    "### Model Testing"
   ]
  },
  {
   "cell_type": "code",
   "execution_count": null,
   "metadata": {
    "scrolled": true
   },
   "outputs": [],
   "source": [
    "correct = 0\n",
    "total = 0\n",
    "longest_run = 0\n",
    "\n",
    "\n",
    "with torch.no_grad():\n",
    "    \n",
    "    for batch in tqdm(range(test_batches)):\n",
    "        \n",
    "        batch_data = data_collection((train_batches + batch)*batch_size, batch_size)\n",
    "        X_data, X_stats, Y = data_preprocess(batch_data)\n",
    "        \n",
    "        \n",
    "        output = model(X_stats, X_data)\n",
    "        run = 0\n",
    "    \n",
    "        \n",
    "        for idx,i  in enumerate(output):\n",
    "            \n",
    "            if math.floor(float(output[idx])+0.5) == Y[idx]:\n",
    "                run = run + 1\n",
    "                correct = correct+1\n",
    "            else:\n",
    "                longest_run = max(longest_run, run)\n",
    "                run = 0\n",
    "            total = total+1\n",
    "    \n",
    "        loss = loss_function(output, Y)\n",
    "        \n",
    "    print(loss)\n",
    "    print(correct)\n",
    "    print(total)\n",
    "    print(longest_run)"
   ]
  },
  {
   "cell_type": "markdown",
   "metadata": {},
   "source": [
    "## Entropy calculation"
   ]
  },
  {
   "cell_type": "code",
   "execution_count": null,
   "metadata": {},
   "outputs": [],
   "source": [
    "n = total       #number of bits produced\n",
    "c = correct       #number of correct bits\n",
    "l = longest_run        #longest run"
   ]
  },
  {
   "cell_type": "code",
   "execution_count": null,
   "metadata": {},
   "outputs": [],
   "source": [
    "prediction_global = c/n\n",
    "\n",
    "if prediction_global == 0 :\n",
    "    prediction_global_normalized = 1 - (0.01**(1/n))\n",
    "\n",
    "else:\n",
    "    prediction_global_normalized = min(1, prediction_global+2.579*(((prediction_global*(1-prediction_global))/(n-1))**(1/2))) #99% confidence"
   ]
  },
  {
   "cell_type": "code",
   "execution_count": null,
   "metadata": {},
   "outputs": [],
   "source": [
    "def local_predictor(p, *args):\n",
    "    \n",
    "    l, n, precision = args\n",
    "    \n",
    "    \n",
    "    q = 1-p\n",
    "    x = 1+q*(p**l)\n",
    "    \n",
    "    \n",
    "    for i in range(int(precision)):\n",
    "        x = x + (((l+1)**(i+1))*((q*(p**l))**(i+2)))     #check equation\n",
    "    \n",
    "    return ((1-p*x)/((l+2-(l+1)*x)*q*(x**(n+1))))-0.99\n"
   ]
  },
  {
   "cell_type": "code",
   "execution_count": null,
   "metadata": {},
   "outputs": [],
   "source": [
    "#Calculating local predictor upto a level of precision\n",
    "\n",
    "\n",
    "precision = 0\n",
    "efselon = 1e-5\n",
    "\n",
    "\n",
    "predict =  fsolve(local_predictor, 0.5, (l, n, precision))\n",
    "precision = precision+1\n",
    "\n",
    "predict_new = fsolve(local_predictor, 0.5, (l, n, precision))\n",
    "\n",
    "\n",
    "while abs(predict-predict_new)>efselon:\n",
    "    precision = precision+1\n",
    "    predict = predict_new\n",
    "    predict_new = fsolve(local_predictor, 0.5, (l, n, precision))\n",
    "\n",
    "\n",
    "prediction_local = predict_new"
   ]
  },
  {
   "cell_type": "code",
   "execution_count": null,
   "metadata": {},
   "outputs": [],
   "source": [
    "min_Entropy = -math.log(max(prediction_global_normalized, prediction_local),2)"
   ]
  },
  {
   "cell_type": "code",
   "execution_count": null,
   "metadata": {},
   "outputs": [],
   "source": [
    "min_Entropy"
   ]
  }
 ],
 "metadata": {
  "kernelspec": {
   "display_name": "Python 3",
   "language": "python",
   "name": "python3"
  },
  "language_info": {
   "codemirror_mode": {
    "name": "ipython",
    "version": 3
   },
   "file_extension": ".py",
   "mimetype": "text/x-python",
   "name": "python",
   "nbconvert_exporter": "python",
   "pygments_lexer": "ipython3",
   "version": "3.6.10"
  }
 },
 "nbformat": 4,
 "nbformat_minor": 4
}
