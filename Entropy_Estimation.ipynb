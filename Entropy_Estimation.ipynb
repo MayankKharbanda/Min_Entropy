{
 "cells": [
  {
   "cell_type": "markdown",
   "metadata": {},
   "source": [
    "# Entropy estimation"
   ]
  },
  {
   "cell_type": "code",
   "execution_count": null,
   "metadata": {},
   "outputs": [],
   "source": [
    "import torch\n",
    "import torch.nn as nn\n",
    "import torch.nn.functional as F\n",
    "import torch.optim as optim\n",
    "import math"
   ]
  },
  {
   "cell_type": "code",
   "execution_count": null,
   "metadata": {},
   "outputs": [],
   "source": [
    "lag = 16\n",
    "stats_count = lag + 4\n",
    "output_dim = 1\n",
    "input_data_dim = 20\n",
    "training_set_ratio = 0.8\n",
    "#batch_size"
   ]
  },
  {
   "cell_type": "markdown",
   "metadata": {},
   "source": [
    "## Data-Preprocessing"
   ]
  },
  {
   "cell_type": "code",
   "execution_count": null,
   "metadata": {},
   "outputs": [],
   "source": [
    "import math\n",
    "\n",
    "training_set_ratio = 0.8\n",
    "\n",
    "with open('random_files/dev-random.bin','rb') as fr:\n",
    "    fr.seek(0,2)\n",
    "    training_set_size = math.floor(0.8*fr.tell())\n",
    "    \n",
    "    \n",
    "    fr.seek(0,0)\n",
    "    data = fr.read(training_set_size)\n",
    "    "
   ]
  },
  {
   "cell_type": "code",
   "execution_count": null,
   "metadata": {},
   "outputs": [],
   "source": [
    "byte_string = \"{0:08b}\".format(int.from_bytes(data,'big'))"
   ]
  },
  {
   "cell_type": "code",
   "execution_count": null,
   "metadata": {},
   "outputs": [],
   "source": [
    "X_D = [float(char) for char in byte_string[:-((training_set_size*8)%(input_data_dim+1))]]"
   ]
  },
  {
   "cell_type": "code",
   "execution_count": null,
   "metadata": {},
   "outputs": [],
   "source": [
    "Y = X_D[20::21]"
   ]
  },
  {
   "cell_type": "code",
   "execution_count": null,
   "metadata": {},
   "outputs": [],
   "source": [
    "del X_D[20::21]"
   ]
  },
  {
   "cell_type": "code",
   "execution_count": null,
   "metadata": {},
   "outputs": [],
   "source": [
    "X_D = torch.tensor(X_D)"
   ]
  },
  {
   "cell_type": "code",
   "execution_count": null,
   "metadata": {},
   "outputs": [],
   "source": [
    "X_D = X_D.view(((training_set_size*8)//(input_data_dim+1)), input_data_dim)"
   ]
  },
  {
   "cell_type": "code",
   "execution_count": null,
   "metadata": {},
   "outputs": [],
   "source": [
    "X_D"
   ]
  },
  {
   "cell_type": "code",
   "execution_count": null,
   "metadata": {},
   "outputs": [],
   "source": [
    "Y = torch.tensor(Y)"
   ]
  },
  {
   "cell_type": "code",
   "execution_count": null,
   "metadata": {},
   "outputs": [],
   "source": [
    "Y = Y.view(((training_set_size*8)//(input_data_dim+1)), 1)"
   ]
  },
  {
   "cell_type": "code",
   "execution_count": null,
   "metadata": {},
   "outputs": [],
   "source": [
    "Y"
   ]
  },
  {
   "cell_type": "markdown",
   "metadata": {},
   "source": [
    "## Neural Network"
   ]
  },
  {
   "cell_type": "code",
   "execution_count": null,
   "metadata": {},
   "outputs": [],
   "source": [
    "class Neural_Network(nn.Module):\n",
    "    def __init__(self, stats_count, input_data_dim, num_classes):\n",
    "        super(Neural_Network, self).__init__()\n",
    "        self.fc1 = nn.Linear(stats_count, 20)\n",
    "        self.fc2 = nn.Linear(20, 1)\n",
    "        self.fc3 = nn.Linear(input_data_dim+1, 128)\n",
    "        self.fc4 = nn.Linear(128, 20)\n",
    "        self.fc5 = nn.Linear(20, num_classes)\n",
    "    \n",
    "    \n",
    "    def forward(self, stats, input_data):\n",
    "        x = F.relu(self.fc1(stats))\n",
    "        x = F.relu(self.fc2(x))\n",
    "        x = F.relu(self.fc3(torch.cat((input_data, x), dim=1)))\n",
    "        x = F.relu(self.fc4(x))\n",
    "        x = F.leaky_relu(self.fc5(x))        #log_softmax\n",
    "        return x\n",
    "\n",
    "model = Neural_Network(stats_count, input_data_dim, output_dim)\n",
    "print(model)"
   ]
  },
  {
   "cell_type": "code",
   "execution_count": null,
   "metadata": {},
   "outputs": [],
   "source": [
    "loss_function = nn.L1Loss()\n",
    "total_epochs = 20\n",
    "learning_rate = 0.001    #update the equation\n",
    "optimizer = optim.Adam(model.parameters(), lr=learning_rate)"
   ]
  },
  {
   "cell_type": "code",
   "execution_count": null,
   "metadata": {},
   "outputs": [],
   "source": [
    "X_S = torch.randn(((training_set_size*8)//(input_data_dim+1)), 20)"
   ]
  },
  {
   "cell_type": "code",
   "execution_count": null,
   "metadata": {},
   "outputs": [],
   "source": [
    "X_S"
   ]
  },
  {
   "cell_type": "code",
   "execution_count": null,
   "metadata": {},
   "outputs": [],
   "source": [
    "output = model(X_S,X_D)"
   ]
  },
  {
   "cell_type": "code",
   "execution_count": null,
   "metadata": {},
   "outputs": [],
   "source": [
    "for epoch in range(total_epochs):\n",
    "    model.zero_grad()\n",
    "    output = model(X_S, X_D)\n",
    "    \n",
    "    loss = loss_function(output, Y)\n",
    "    optimizer.zero_grad()\n",
    "    loss.backward()\n",
    "    optimizer.step()\n",
    "\n",
    "    print(loss)"
   ]
  },
  {
   "cell_type": "code",
   "execution_count": null,
   "metadata": {},
   "outputs": [],
   "source": []
  }
 ],
 "metadata": {
  "kernelspec": {
   "display_name": "Python 3",
   "language": "python",
   "name": "python3"
  },
  "language_info": {
   "codemirror_mode": {
    "name": "ipython",
    "version": 3
   },
   "file_extension": ".py",
   "mimetype": "text/x-python",
   "name": "python",
   "nbconvert_exporter": "python",
   "pygments_lexer": "ipython3",
   "version": "3.6.10"
  }
 },
 "nbformat": 4,
 "nbformat_minor": 4
}
