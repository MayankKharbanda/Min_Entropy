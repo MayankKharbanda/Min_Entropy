{
 "cells": [
  {
   "cell_type": "markdown",
   "metadata": {},
   "source": [
    "# Entropy estimation"
   ]
  },
  {
   "cell_type": "code",
   "execution_count": 1,
   "metadata": {},
   "outputs": [],
   "source": [
    "import torch\n",
    "import torch.nn as nn\n",
    "import torch.nn.functional as F\n",
    "import torch.optim as optim\n",
    "import math"
   ]
  },
  {
   "cell_type": "code",
   "execution_count": 2,
   "metadata": {},
   "outputs": [],
   "source": [
    "lag = 16\n",
    "stats_count = lag + 4\n",
    "num_classes = 2\n",
    "input_data_dim = 20\n",
    "training_set_ratio = 0.8"
   ]
  },
  {
   "cell_type": "markdown",
   "metadata": {},
   "source": [
    "## Data-Preprocessing"
   ]
  },
  {
   "cell_type": "code",
   "execution_count": 3,
   "metadata": {},
   "outputs": [],
   "source": [
    "import math\n",
    "\n",
    "training_set_ratio = 0.8\n",
    "\n",
    "with open('random_files/dev-random.bin','rb') as fr:\n",
    "    fr.seek(0,2)\n",
    "    training_set_size = math.floor(0.8*fr.tell())\n",
    "    \n",
    "    \n",
    "    fr.seek(0,0)\n",
    "    data = fr.read(training_set_size)\n",
    "    "
   ]
  },
  {
   "cell_type": "code",
   "execution_count": 4,
   "metadata": {},
   "outputs": [],
   "source": [
    "byte_string = \"{0:08b}\".format(int.from_bytes(data,'big'))"
   ]
  },
  {
   "cell_type": "code",
   "execution_count": 5,
   "metadata": {},
   "outputs": [],
   "source": [
    "X_D = [float(char) for char in byte_string[:-((training_set_size*8)%(input_data_dim+1))]]"
   ]
  },
  {
   "cell_type": "code",
   "execution_count": 6,
   "metadata": {},
   "outputs": [],
   "source": [
    "Y = X_D[20::21]"
   ]
  },
  {
   "cell_type": "code",
   "execution_count": 7,
   "metadata": {},
   "outputs": [],
   "source": [
    "del X_D[20::21]"
   ]
  },
  {
   "cell_type": "code",
   "execution_count": 8,
   "metadata": {},
   "outputs": [],
   "source": [
    "X_D = torch.tensor(X_D)"
   ]
  },
  {
   "cell_type": "code",
   "execution_count": 9,
   "metadata": {},
   "outputs": [],
   "source": [
    "X_D = X_D.view(((training_set_size*8)//(input_data_dim+1)), input_data_dim)"
   ]
  },
  {
   "cell_type": "code",
   "execution_count": 10,
   "metadata": {},
   "outputs": [
    {
     "data": {
      "text/plain": [
       "tensor([[1., 0., 0.,  ..., 1., 0., 0.],\n",
       "        [1., 0., 1.,  ..., 0., 0., 0.],\n",
       "        [0., 0., 1.,  ..., 1., 0., 0.],\n",
       "        ...,\n",
       "        [0., 0., 1.,  ..., 0., 1., 1.],\n",
       "        [1., 0., 1.,  ..., 1., 1., 1.],\n",
       "        [0., 0., 0.,  ..., 0., 1., 1.]])"
      ]
     },
     "execution_count": 10,
     "metadata": {},
     "output_type": "execute_result"
    }
   ],
   "source": [
    "X_D"
   ]
  },
  {
   "cell_type": "code",
   "execution_count": 11,
   "metadata": {},
   "outputs": [],
   "source": [
    "Y = torch.tensor(Y)"
   ]
  },
  {
   "cell_type": "code",
   "execution_count": 12,
   "metadata": {},
   "outputs": [],
   "source": [
    "Y = Y.view(((training_set_size*8)//(input_data_dim+1)), 1)"
   ]
  },
  {
   "cell_type": "code",
   "execution_count": 13,
   "metadata": {},
   "outputs": [
    {
     "data": {
      "text/plain": [
       "tensor([[0.],\n",
       "        [1.],\n",
       "        [0.],\n",
       "        ...,\n",
       "        [0.],\n",
       "        [1.],\n",
       "        [0.]])"
      ]
     },
     "execution_count": 13,
     "metadata": {},
     "output_type": "execute_result"
    }
   ],
   "source": [
    "Y"
   ]
  },
  {
   "cell_type": "markdown",
   "metadata": {},
   "source": [
    "## Neural Network"
   ]
  },
  {
   "cell_type": "code",
   "execution_count": 14,
   "metadata": {},
   "outputs": [
    {
     "name": "stdout",
     "output_type": "stream",
     "text": [
      "Neural_Network(\n",
      "  (fc1): Linear(in_features=20, out_features=20, bias=True)\n",
      "  (fc2): Linear(in_features=20, out_features=1, bias=True)\n",
      "  (fc3): Linear(in_features=21, out_features=128, bias=True)\n",
      "  (fc4): Linear(in_features=128, out_features=20, bias=True)\n",
      "  (fc5): Linear(in_features=20, out_features=2, bias=True)\n",
      ")\n"
     ]
    }
   ],
   "source": [
    "class Neural_Network(nn.Module):\n",
    "    def __init__(self, stats_count, input_data_dim, num_classes):\n",
    "        super(Neural_Network, self).__init__()\n",
    "        self.fc1 = nn.Linear(stats_count, 20)\n",
    "        self.fc2 = nn.Linear(20, 1)\n",
    "        self.fc3 = nn.Linear(input_data_dim+1, 128)\n",
    "        self.fc4 = nn.Linear(128, 20)\n",
    "        self.fc5 = nn.Linear(20, num_classes)\n",
    "    \n",
    "    \n",
    "    def forward(self, stats, input_data):\n",
    "        x = F.relu(self.fc1(stats))\n",
    "        x = F.relu(self.fc2(x))\n",
    "        x = F.relu(self.fc3(torch.cat((input_data, x), dim=1)))\n",
    "        x = F.relu(self.fc4(x))\n",
    "        x = F.softmax(self.fc5(x), dim=1)        #log_softmax\n",
    "        return x\n",
    "\n",
    "model = Neural_Network(stats_count, input_data_dim, num_classes)\n",
    "print(model)"
   ]
  },
  {
   "cell_type": "code",
   "execution_count": 15,
   "metadata": {},
   "outputs": [],
   "source": [
    "loss_function = nn.CrossEntropyLoss()\n",
    "total_epochs = 20\n",
    "learning_rate = 0.001    #update the equation\n",
    "optimizer = optim.Adam(model.parameters(), lr=learning_rate)"
   ]
  },
  {
   "cell_type": "code",
   "execution_count": 16,
   "metadata": {},
   "outputs": [],
   "source": [
    "X_S = torch.randn(((training_set_size*8)//(input_data_dim+1)), 20)"
   ]
  },
  {
   "cell_type": "code",
   "execution_count": 17,
   "metadata": {},
   "outputs": [
    {
     "data": {
      "text/plain": [
       "tensor([[-4.4725e-01,  1.4553e+00, -2.4143e+00,  ...,  4.6391e-01,\n",
       "          1.5210e-01,  4.6445e-01],\n",
       "        [-1.2579e+00,  2.3517e-01,  2.8870e-01,  ...,  1.3206e+00,\n",
       "          7.3512e-01, -1.2708e-01],\n",
       "        [-1.1009e+00, -6.1703e-01, -2.1413e+00,  ..., -2.4778e-03,\n",
       "         -3.8508e-01, -9.6339e-02],\n",
       "        ...,\n",
       "        [ 5.9917e-01,  1.0203e+00,  5.1975e-01,  ...,  2.5965e+00,\n",
       "         -4.1370e-01, -4.7403e-01],\n",
       "        [-1.4098e+00,  1.3165e+00,  3.4355e-01,  ..., -1.2481e-04,\n",
       "          1.3352e+00,  6.8080e-02],\n",
       "        [ 4.5679e-02,  1.0087e+00, -1.5855e+00,  ..., -1.2040e+00,\n",
       "         -2.7691e-01, -5.6209e-01]])"
      ]
     },
     "execution_count": 17,
     "metadata": {},
     "output_type": "execute_result"
    }
   ],
   "source": [
    "X_S"
   ]
  },
  {
   "cell_type": "code",
   "execution_count": 18,
   "metadata": {},
   "outputs": [],
   "source": [
    "output = model(X_S,X_D)"
   ]
  },
  {
   "cell_type": "code",
   "execution_count": null,
   "metadata": {},
   "outputs": [],
   "source": []
  }
 ],
 "metadata": {
  "kernelspec": {
   "display_name": "Python 3",
   "language": "python",
   "name": "python3"
  },
  "language_info": {
   "codemirror_mode": {
    "name": "ipython",
    "version": 3
   },
   "file_extension": ".py",
   "mimetype": "text/x-python",
   "name": "python",
   "nbconvert_exporter": "python",
   "pygments_lexer": "ipython3",
   "version": "3.6.10"
  }
 },
 "nbformat": 4,
 "nbformat_minor": 4
}
