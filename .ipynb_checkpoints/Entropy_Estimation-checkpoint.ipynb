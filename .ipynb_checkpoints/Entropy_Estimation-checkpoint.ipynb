{
 "cells": [
  {
   "cell_type": "markdown",
   "metadata": {},
   "source": [
    "# Entropy estimation"
   ]
  },
  {
   "cell_type": "code",
   "execution_count": 1,
   "metadata": {},
   "outputs": [],
   "source": [
    "import torch\n",
    "import torch.nn as nn\n",
    "import torch.nn.functional as F\n",
    "import torch.optim as optim\n",
    "import math\n",
    "from tqdm import tqdm\n",
    "from scipy.optimize import fsolve"
   ]
  },
  {
   "cell_type": "code",
   "execution_count": 2,
   "metadata": {},
   "outputs": [],
   "source": [
    "#lag = 16              #parameter for auto-correlation\n",
    "#stats_count = lag + 4       #stats parameters\n",
    "input_dim = 20         #input random numbers\n",
    "\n",
    "training_set_ratio = 0.7       #ratio of training set in total data\n",
    "\n",
    "\n",
    "batch_size_appr = 1000         #approximate batch size(in bytes)\n",
    "random_file = 'random_files/dev-random.bin'      #file containing random numbers\n",
    "\n",
    "\n",
    "batch_size = math.ceil((batch_size_appr - ((batch_size_appr*8)%(input_dim+1)))/8)"
   ]
  },
  {
   "cell_type": "markdown",
   "metadata": {},
   "source": [
    "## Data-Preprocessing"
   ]
  },
  {
   "cell_type": "code",
   "execution_count": 3,
   "metadata": {},
   "outputs": [],
   "source": [
    "with open(f'{random_file}','rb') as fr:\n",
    "    fr.seek(0,2)\n",
    "    file_size = fr.tell()\n",
    "    training_set_size = math.floor(training_set_ratio*file_size)"
   ]
  },
  {
   "cell_type": "code",
   "execution_count": 4,
   "metadata": {},
   "outputs": [],
   "source": [
    "def data_collection(pos, size):\n",
    "    \n",
    "    '''\n",
    "    The function returns binary data of size 'size' \n",
    "    starting from 'pos' in 'random_file'\n",
    "    '''\n",
    "    \n",
    "    \n",
    "    with open(f'{random_file}','rb') as fr:    \n",
    "        fr.seek(pos,0)\n",
    "        data = fr.read(size)\n",
    "    \n",
    "    return data"
   ]
  },
  {
   "cell_type": "code",
   "execution_count": 5,
   "metadata": {},
   "outputs": [],
   "source": [
    "def data_preprocess(data):\n",
    "    \n",
    "    '''\n",
    "    The function does preprocessing of data, \n",
    "    which is transferred to neural network.\n",
    "    '''\n",
    "    \n",
    "    \n",
    "    byte_string = \"{0:08b}\".format(int.from_bytes(data,'big'))       #converts binary data into binary digits\n",
    "    \n",
    "    data_size = len(byte_string)                            #size of binary data\n",
    "    \n",
    "    X_data = [float(char) for char in byte_string[:-(data_size%(input_dim+1))]]   #trim data from last to make tensor, and convert binary string to list\n",
    "    Y = X_data[input_dim :: input_dim + 1]               #take the Y values from the list and clean the original list\n",
    "    del X_data[input_dim :: input_dim + 1]\n",
    "    \n",
    "\n",
    "    X_data = torch.tensor(X_data)             \n",
    "    X_data = X_data.view((data_size//(input_dim+1)), input_dim)          #create tensor of appropriate dimensions\n",
    "    \n",
    "    Y = torch.tensor(Y)\n",
    "    Y = Y.view((data_size//(input_dim+1)), 1)\n",
    "    \n",
    "    return X_data, Y"
   ]
  },
  {
   "cell_type": "code",
   "execution_count": 6,
   "metadata": {},
   "outputs": [],
   "source": [
    "train_batches = math.floor(training_set_size/batch_size)            #total train batches\n",
    "test_batches = math.ceil(file_size/batch_size)-train_batches         #total test batches(from memory constraints)"
   ]
  },
  {
   "cell_type": "markdown",
   "metadata": {},
   "source": [
    "## Neural Network"
   ]
  },
  {
   "cell_type": "code",
   "execution_count": 7,
   "metadata": {},
   "outputs": [
    {
     "name": "stdout",
     "output_type": "stream",
     "text": [
      "Neural_Network(\n",
      "  (fc3): Linear(in_features=20, out_features=128, bias=True)\n",
      "  (fc4): Linear(in_features=128, out_features=20, bias=True)\n",
      "  (fc5): Linear(in_features=20, out_features=1, bias=True)\n",
      ")\n"
     ]
    }
   ],
   "source": [
    "class Neural_Network(nn.Module):\n",
    "       \n",
    "    '''\n",
    "    The class contains architecture of neural network\n",
    "    '''\n",
    "    \n",
    "    def __init__(self, input_dim, num_classes):\n",
    "        \n",
    "        super(Neural_Network, self).__init__()\n",
    "        #self.fc1 = nn.Linear(stats_count, 20)\n",
    "        #self.fc2 = nn.Linear(20, 1)\n",
    "        self.fc3 = nn.Linear(input_dim, 128)\n",
    "        self.fc4 = nn.Linear(128, 20)\n",
    "        self.fc5 = nn.Linear(20, num_classes)\n",
    "    \n",
    "    \n",
    "    def forward(self, input_data):\n",
    "        #x = F.relu(self.fc1(stats))\n",
    "        #x = F.relu(self.fc2(x))\n",
    "        #x = F.relu(self.fc3(torch.cat((input_data, x), dim=1)))\n",
    "        x=F.relu(self.fc3(input_data))\n",
    "        x = F.relu(self.fc4(x))\n",
    "        x = F.relu(self.fc5(x))        #softmax\n",
    "        return x\n",
    "\n",
    "model = Neural_Network(input_dim, 1)\n",
    "print(model)"
   ]
  },
  {
   "cell_type": "code",
   "execution_count": 8,
   "metadata": {},
   "outputs": [],
   "source": [
    "loss_function = nn.L1Loss()      # absolute mean loss function\n",
    "total_epochs = 2\n",
    "\n",
    "\n",
    "learning_rate = 0.01\n",
    "optimizer = optim.Adam(model.parameters(), lr=learning_rate)    #Adam optimizer\n",
    "\n",
    "\n",
    "#reducing learning rate when plateau occurs\n",
    "scheduler = optim.lr_scheduler.ReduceLROnPlateau(optimizer, mode='min', factor=0.1, patience=10, verbose=True, threshold=0.0001)"
   ]
  },
  {
   "cell_type": "markdown",
   "metadata": {},
   "source": [
    "### Model training"
   ]
  },
  {
   "cell_type": "code",
   "execution_count": 18,
   "metadata": {},
   "outputs": [
    {
     "name": "stderr",
     "output_type": "stream",
     "text": [
      "  0%|          | 0/2 [00:00<?, ?it/s]\n",
      "  0%|          | 0/722 [00:00<?, ?it/s]\u001b[A\n",
      "  3%|▎         | 23/722 [00:00<00:03, 227.37it/s]\u001b[A\n",
      "  7%|▋         | 54/722 [00:00<00:02, 246.30it/s]\u001b[A\n",
      " 13%|█▎        | 91/722 [00:00<00:02, 273.00it/s]\u001b[A\n",
      " 18%|█▊        | 128/722 [00:00<00:02, 295.26it/s]\u001b[A\n",
      " 22%|██▏       | 158/722 [00:00<00:01, 294.97it/s]\u001b[A\n",
      " 27%|██▋       | 192/722 [00:00<00:01, 306.67it/s]\u001b[A\n",
      " 32%|███▏      | 230/722 [00:00<00:01, 325.13it/s]\u001b[A\n",
      " 37%|███▋      | 268/722 [00:00<00:01, 339.37it/s]\u001b[A\n",
      " 42%|████▏     | 302/722 [00:00<00:01, 335.87it/s]\u001b[A\n",
      " 47%|████▋     | 342/722 [00:01<00:01, 351.18it/s]\u001b[A\n",
      " 52%|█████▏    | 378/722 [00:01<00:01, 337.87it/s]\u001b[A\n",
      " 57%|█████▋    | 412/722 [00:01<00:00, 311.46it/s]\u001b[A\n",
      " 61%|██████▏   | 444/722 [00:01<00:01, 255.55it/s]\u001b[A\n",
      " 65%|██████▌   | 472/722 [00:01<00:00, 258.96it/s]\u001b[A\n",
      " 69%|██████▉   | 500/722 [00:01<00:00, 224.08it/s]\u001b[A\n",
      " 73%|███████▎  | 525/722 [00:01<00:01, 171.13it/s]\u001b[A\n",
      " 76%|███████▌  | 548/722 [00:02<00:00, 184.63it/s]\u001b[A\n",
      " 79%|███████▉  | 569/722 [00:02<00:00, 174.56it/s]\u001b[A\n",
      " 82%|████████▏ | 589/722 [00:02<00:00, 161.41it/s]\u001b[A\n",
      " 84%|████████▍ | 607/722 [00:02<00:00, 145.70it/s]\u001b[A\n",
      " 86%|████████▋ | 623/722 [00:02<00:00, 141.28it/s]\u001b[A\n",
      " 89%|████████▊ | 639/722 [00:02<00:00, 134.25it/s]\u001b[A\n",
      " 94%|█████████▍| 678/722 [00:02<00:00, 166.99it/s]\u001b[A\n",
      "100%|██████████| 722/722 [00:02<00:00, 242.96it/s]\u001b[A\n",
      " 50%|█████     | 1/2 [00:02<00:02,  2.98s/it]\n",
      "  0%|          | 0/722 [00:00<?, ?it/s]\u001b[A\n",
      "  6%|▌         | 40/722 [00:00<00:01, 396.46it/s]\u001b[A\n",
      " 10%|▉         | 72/722 [00:00<00:01, 368.36it/s]\u001b[A\n",
      " 15%|█▍        | 106/722 [00:00<00:01, 357.88it/s]\u001b[A\n",
      " 19%|█▉        | 137/722 [00:00<00:01, 340.58it/s]\u001b[A\n",
      " 25%|██▍       | 177/722 [00:00<00:01, 355.05it/s]\u001b[A\n",
      " 29%|██▉       | 209/722 [00:00<00:01, 342.06it/s]\u001b[A\n",
      " 33%|███▎      | 239/722 [00:00<00:01, 266.96it/s]\u001b[A\n",
      " 37%|███▋      | 266/722 [00:00<00:02, 211.29it/s]\u001b[A\n",
      " 40%|████      | 289/722 [00:01<00:02, 177.85it/s]\u001b[A\n",
      " 43%|████▎     | 309/722 [00:01<00:02, 146.66it/s]\u001b[A\n",
      " 46%|████▌     | 332/722 [00:01<00:02, 160.53it/s]\u001b[A\n",
      " 49%|████▊     | 351/722 [00:01<00:02, 161.96it/s]\u001b[A\n",
      " 51%|█████     | 369/722 [00:01<00:02, 149.85it/s]\u001b[A\n",
      " 53%|█████▎    | 386/722 [00:01<00:02, 140.75it/s]\u001b[A\n",
      " 56%|█████▌    | 401/722 [00:01<00:02, 134.35it/s]\u001b[A\n",
      " 58%|█████▊    | 416/722 [00:02<00:02, 123.37it/s]\u001b[A\n",
      " 60%|█████▉    | 430/722 [00:02<00:02, 125.84it/s]\u001b[A\n",
      " 61%|██████▏   | 444/722 [00:02<00:02, 123.14it/s]\u001b[A\n",
      " 63%|██████▎   | 457/722 [00:02<00:02, 124.53it/s]\u001b[A\n",
      " 66%|██████▌   | 478/722 [00:02<00:01, 138.76it/s]\u001b[A\n",
      " 68%|██████▊   | 493/722 [00:02<00:01, 136.58it/s]\u001b[A\n",
      " 70%|███████   | 508/722 [00:02<00:01, 130.10it/s]\u001b[A\n",
      " 72%|███████▏  | 522/722 [00:02<00:01, 128.74it/s]\u001b[A\n",
      " 74%|███████▍  | 536/722 [00:03<00:01, 116.74it/s]\u001b[A\n",
      " 76%|███████▌  | 549/722 [00:03<00:01, 116.24it/s]\u001b[A\n",
      " 78%|███████▊  | 564/722 [00:03<00:01, 121.83it/s]\u001b[A\n",
      " 80%|███████▉  | 577/722 [00:03<00:01, 119.50it/s]\u001b[A\n",
      " 82%|████████▏ | 593/722 [00:03<00:01, 128.65it/s]\u001b[A\n",
      " 84%|████████▍ | 607/722 [00:03<00:00, 126.65it/s]\u001b[A\n",
      " 86%|████████▋ | 623/722 [00:03<00:00, 128.33it/s]\u001b[A\n",
      " 88%|████████▊ | 637/722 [00:03<00:00, 126.42it/s]\u001b[A\n",
      " 90%|█████████ | 652/722 [00:03<00:00, 129.39it/s]\u001b[A\n",
      " 92%|█████████▏| 667/722 [00:04<00:00, 133.98it/s]\u001b[A\n",
      " 94%|█████████▍| 681/722 [00:04<00:00, 131.78it/s]\u001b[A\n",
      " 96%|█████████▋| 695/722 [00:04<00:00, 129.40it/s]\u001b[A\n",
      "100%|██████████| 722/722 [00:04<00:00, 161.32it/s]\u001b[A\n",
      "100%|██████████| 2/2 [00:07<00:00,  3.74s/it]\n"
     ]
    }
   ],
   "source": [
    "import os\n",
    "\n",
    "PATH = 'saved_models/'\n",
    "\n",
    "os.makedirs(PATH, exist_ok=True)\n",
    "\n",
    "'''\n",
    "model.load_state_dict(torch.load(PATH+save_dirs[-1]))\n",
    "model.eval()\n",
    "'''\n",
    "\n",
    "\n",
    "for epoch in tqdm(range(total_epochs)):\n",
    "    \n",
    "    \n",
    "    #tqdm.write(f'Epoch: {epoch}')\n",
    "    \n",
    "    for batch in tqdm(range(train_batches)):\n",
    "    \n",
    "        batch_data = data_collection(batch*batch_size, batch_size)\n",
    "        X_data, Y = data_preprocess(batch_data)\n",
    "        \n",
    "        \n",
    "        model.zero_grad()\n",
    "        output = model(X_data)\n",
    "        \n",
    "        \n",
    "        loss = loss_function(output, Y)\n",
    "        optimizer.zero_grad()\n",
    "        loss.backward()\n",
    "        \n",
    "        optimizer.step()\n",
    "        scheduler.step(loss)\n",
    "        \n",
    "\n",
    "        with open(PATH+'Loss.txt','a') as l:\n",
    "            l.write(f'Batch:{batch}\\n')\n",
    "            l.write(f'{loss.item()}')\n",
    "            l.write('\\n')\n",
    "            \n",
    "            \n",
    "        if(batch%50 == 0):\n",
    "            os.makedirs(PATH+f'Epoch_{epoch}/', exist_ok=True)\n",
    "            torch.save(model.state_dict(), PATH+f'Epoch_{epoch}/{batch}.txt')\n",
    "        \n",
    "        #tqdm.write(f'Batch: {batch} \\t Loss: {loss}')"
   ]
  },
  {
   "cell_type": "markdown",
   "metadata": {},
   "source": [
    "### Model Testing"
   ]
  },
  {
   "cell_type": "code",
   "execution_count": null,
   "metadata": {
    "scrolled": true
   },
   "outputs": [],
   "source": [
    "correct = 0\n",
    "total = 0\n",
    "longest_run = 0\n",
    "\n",
    "\n",
    "with torch.no_grad():\n",
    "    \n",
    "    for batch in tqdm(range(test_batches)):\n",
    "        \n",
    "        batch_data = data_collection((train_batches + batch)*batch_size, batch_size)\n",
    "        X_data, Y = data_preprocess(batch_data)\n",
    "        \n",
    "        \n",
    "        output = model(X_data)\n",
    "        run = 0\n",
    "    \n",
    "        \n",
    "        for idx,i  in enumerate(output):\n",
    "            \n",
    "            if math.floor(float(output[idx])+0.5) == Y[idx]:\n",
    "                run = run + 1\n",
    "                correct = correct+1\n",
    "            else:\n",
    "                longest_run = max(longest_run, run)\n",
    "                run = 0\n",
    "            total = total+1\n",
    "    \n",
    "        loss = loss_function(output, Y)\n",
    "        \n",
    "    print('Loss')\n",
    "    print(loss)\n",
    "    print('Correct: '+str(correct))\n",
    "    print('Total:'+str(total))\n",
    "    print('correct_ratio: '+str(correct/total))\n",
    "    print(longest_run)"
   ]
  },
  {
   "cell_type": "markdown",
   "metadata": {},
   "source": [
    "## Entropy calculation"
   ]
  },
  {
   "cell_type": "code",
   "execution_count": null,
   "metadata": {},
   "outputs": [],
   "source": [
    "n = total       #number of bits produced\n",
    "c = correct       #number of correct bits\n",
    "l = longest_run        #longest run"
   ]
  },
  {
   "cell_type": "code",
   "execution_count": null,
   "metadata": {},
   "outputs": [],
   "source": [
    "prediction_global = c/n\n",
    "\n",
    "if prediction_global == 0 :\n",
    "    prediction_global_normalized = 1 - (0.01**(1/n))\n",
    "\n",
    "else:\n",
    "    prediction_global_normalized = min(1, prediction_global+2.579*(((prediction_global*(1-prediction_global))/(n-1))**(1/2))) #99% confidence"
   ]
  },
  {
   "cell_type": "code",
   "execution_count": null,
   "metadata": {},
   "outputs": [],
   "source": [
    "def local_predictor(p, *args):\n",
    "    \n",
    "    l, n, precision = args\n",
    "    \n",
    "    \n",
    "    q = 1-p\n",
    "    x = 1+q*(p**l)\n",
    "    \n",
    "    \n",
    "    for i in range(int(precision)):\n",
    "        x = x + (((l+1)**(i+1))*((q*(p**l))**(i+2)))     #check equation\n",
    "    \n",
    "    return ((1-p*x)/((l+2-(l+1)*x)*q*(x**(n+1))))-0.99\n"
   ]
  },
  {
   "cell_type": "code",
   "execution_count": null,
   "metadata": {},
   "outputs": [],
   "source": [
    "#Calculating local predictor upto a level of precision\n",
    "\n",
    "\n",
    "precision = 0\n",
    "efselon = 1e-5\n",
    "\n",
    "\n",
    "predict =  fsolve(local_predictor, 0.5, (l, n, precision))\n",
    "precision = precision+1\n",
    "\n",
    "predict_new = fsolve(local_predictor, 0.5, (l, n, precision))\n",
    "\n",
    "\n",
    "while abs(predict-predict_new)>efselon:\n",
    "    precision = precision+1\n",
    "    predict = predict_new\n",
    "    predict_new = fsolve(local_predictor, 0.5, (l, n, precision))\n",
    "\n",
    "\n",
    "prediction_local = predict_new"
   ]
  },
  {
   "cell_type": "code",
   "execution_count": null,
   "metadata": {},
   "outputs": [],
   "source": [
    "min_Entropy = -math.log(max(prediction_global_normalized, prediction_local),2)"
   ]
  },
  {
   "cell_type": "code",
   "execution_count": null,
   "metadata": {},
   "outputs": [],
   "source": [
    "min_Entropy"
   ]
  },
  {
   "cell_type": "code",
   "execution_count": null,
   "metadata": {},
   "outputs": [],
   "source": []
  }
 ],
 "metadata": {
  "kernelspec": {
   "display_name": "Python 3",
   "language": "python",
   "name": "python3"
  },
  "language_info": {
   "codemirror_mode": {
    "name": "ipython",
    "version": 3
   },
   "file_extension": ".py",
   "mimetype": "text/x-python",
   "name": "python",
   "nbconvert_exporter": "python",
   "pygments_lexer": "ipython3",
   "version": "3.6.10"
  }
 },
 "nbformat": 4,
 "nbformat_minor": 4
}
